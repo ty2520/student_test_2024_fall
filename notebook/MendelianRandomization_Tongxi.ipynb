{
 "cells": [
  {
   "cell_type": "markdown",
   "id": "74d567b3-b2b5-4e8f-b70f-bbd4f3c679d1",
   "metadata": {},
   "source": [
    "# Introduction"
   ]
  },
  {
   "cell_type": "markdown",
   "id": "65efdf25-1816-4cf2-8cb6-5fdfe322229a",
   "metadata": {},
   "source": [
    "Two-sample Mendelian Randomization (MR) is a powerful statistical method used to infer causal relationships between risk factors and health outcomes using genetic data. In this approach, genetic variants associated with an exposure (such as cholesterol levels) are used as instruments to assess their effect on an outcome (like heart disease) in separate, independent samples. By leveraging genetic variants, which are randomly allocated and less influenced by confounding factors, two-sample MR provides a robust way to estimate causal effects and avoid some of the biases present in traditional observational studies.\n",
    "\n",
    "This method involves obtaining summary statistics from two distinct datasets: one for the exposure and one for the outcome. By combining these datasets, researchers can estimate the causal effect of the exposure on the outcome with increased statistical power and precision. Two-sample MR is widely used in public health and biostatistics to provide insights into how modifiable risk factors impact health outcomes, guiding more effective prevention and treatment strategies.\n",
    "\n",
    "In this notebook you will perform a two-sample Mendelian Randomization study. We will apply MR-IVW (Inverse-Variance Weighted) and MR-Egger on a toy dataset to estimate causal effects. MR-IVW combines multiple genetic instruments by weighting them according to their precision, assuming all instruments are valid. In contrast, MR-Egger Regression allows for potential pleiotropy (where instruments affect the outcome through pathways other than the exposure) by including an intercept term to adjust for directional pleiotropy, providing a more flexible approach when there are concerns about instrument validity. At the end there is a bonus question to run five main MR methods all together on the simulated data and analyze the results."
   ]
  },
  {
   "cell_type": "markdown",
   "id": "59aad0a1-bafe-48e1-919c-3e47a6c73a8e",
   "metadata": {},
   "source": [
    "# Load and preprocess the data"
   ]
  },
  {
   "cell_type": "markdown",
   "id": "60c2c061-a784-409a-bc9d-c5568e247647",
   "metadata": {},
   "source": [
    "First please load the data in `../data/MR_genotype_data_with_missing.csv` and `../data/MR_phenotype_data_with_missing.csv` and name them `genotype_data` and `phenotype_data`. Keep the names same before and after the imputation."
   ]
  },
  {
   "cell_type": "markdown",
   "id": "23e49c4e-9f45-4238-87ad-46ac67e10e26",
   "metadata": {
    "kernel": "SoS"
   },
   "source": [
    "***"
   ]
  },
  {
   "cell_type": "markdown",
   "id": "a85fb187-8e52-45c8-b4b7-9f0ee8d24815",
   "metadata": {
    "kernel": "SoS"
   },
   "source": [
    "**Question 1: analyze the pattern of missing data in the phenotype dataset. Are there any specific patterns (e.g., missingness concentrated in certain columns or rows)?**"
   ]
  },
  {
   "cell_type": "markdown",
   "id": "61588667-999e-4351-a947-7b51fbc53496",
   "metadata": {
    "kernel": "SoS"
   },
   "source": [
    "**Answer:**"
   ]
  },
  {
   "cell_type": "markdown",
   "id": "90b30c65-63dc-41e1-9aec-b66c6300a769",
   "metadata": {
    "kernel": "SoS"
   },
   "source": [
    "***"
   ]
  },
  {
   "cell_type": "markdown",
   "id": "adbb2c00-d30d-4d75-87af-22fcda3b2056",
   "metadata": {},
   "source": [
    "**Question 2: given the missingness of data, please perform mode imputation for the genotype data and mean imputation for the phenotype data. Report what is the average age after imputation?**"
   ]
  },
  {
   "cell_type": "markdown",
   "id": "e2cf2197-5036-492b-9df1-de25bcf65591",
   "metadata": {
    "kernel": "SoS"
   },
   "source": [
    "**Answer:**"
   ]
  },
  {
   "cell_type": "markdown",
   "id": "94376021-48f0-4740-82fb-369a822e458c",
   "metadata": {
    "kernel": "SoS"
   },
   "source": [
    "***"
   ]
  },
  {
   "cell_type": "markdown",
   "id": "87d6b7de-d872-40c9-89f0-6b7e494a3f1e",
   "metadata": {},
   "source": [
    "# Instrument selection\n",
    "\n",
    "Now we can use the genotype data to calculate SNP-exposure associations (i.e., estimate the beta values for SNPs). Basically you can do a linear regression between the exposure and each variant and collect the coefficients:"
   ]
  },
  {
   "cell_type": "code",
   "execution_count": null,
   "id": "ecdb3007-ff03-4fbb-8a7c-0814e13dccac",
   "metadata": {
    "tags": []
   },
   "outputs": [],
   "source": [
    "snp_exposure_results <- data.frame(SNP = colnames(genotype_data)[-1],\n",
    "                                    Beta = numeric(ncol(genotype_data) - 1),\n",
    "                                    SE = numeric(ncol(genotype_data) - 1))\n",
    "\n",
    "for (snp in colnames(genotype_data)[-1]) {\n",
    "  genotype <- genotype_data[[snp]]\n",
    "  exposure <- phenotype_data$Exposure\n",
    "  fit <- lm(exposure ~ genotype)\n",
    "  snp_exposure_results$Beta[snp_exposure_results$SNP == snp] <- coef(fit)[2]\n",
    "  snp_exposure_results$SE[snp_exposure_results$SNP == snp] <- summary(fit)$coefficients[2, 2]\n",
    "}"
   ]
  },
  {
   "cell_type": "markdown",
   "id": "1e09f8f1-1a73-4476-be64-23d26f39c04c",
   "metadata": {
    "kernel": "SoS"
   },
   "source": [
    "***"
   ]
  },
  {
   "cell_type": "markdown",
   "id": "7c29f279-2a01-410f-9b80-04080a89630d",
   "metadata": {},
   "source": [
    "**Question 3: please only select the variants with p-value smaller than 0.01. How many are there?**"
   ]
  },
  {
   "cell_type": "markdown",
   "id": "38e3e89d-74e5-4c97-b365-9703c722d0c0",
   "metadata": {
    "kernel": "SoS"
   },
   "source": [
    "**Answer:**"
   ]
  },
  {
   "cell_type": "markdown",
   "id": "81bf9234-af6d-49fc-83bc-2c96c0fcba56",
   "metadata": {
    "kernel": "SoS"
   },
   "source": [
    "***"
   ]
  },
  {
   "cell_type": "markdown",
   "id": "b73dbff1-2305-4327-b883-5cf25bcc6310",
   "metadata": {},
   "source": [
    "# SNP-outcome association"
   ]
  },
  {
   "cell_type": "markdown",
   "id": "9cc0f375-6ed3-4549-9a5a-a7d99d056404",
   "metadata": {
    "kernel": "SoS"
   },
   "source": [
    "***"
   ]
  },
  {
   "cell_type": "markdown",
   "id": "f63916f8-5c40-4d14-b419-20296340f2b4",
   "metadata": {},
   "source": [
    "**Question 4: please run the association analysis between variants and the outcome.**"
   ]
  },
  {
   "cell_type": "markdown",
   "id": "76d23c39-d4ec-4906-be47-996e06d95466",
   "metadata": {
    "kernel": "SoS"
   },
   "source": [
    "**Answer:**"
   ]
  },
  {
   "cell_type": "markdown",
   "id": "00d22e53-93c7-456d-9a8d-3020428224f2",
   "metadata": {
    "kernel": "SoS"
   },
   "source": [
    "***"
   ]
  },
  {
   "cell_type": "markdown",
   "id": "7fb741c7-e63b-4879-81ab-0fb10bf1edb5",
   "metadata": {},
   "source": [
    "# Run two-sample MR"
   ]
  },
  {
   "cell_type": "markdown",
   "id": "9f01af0a-a977-403e-a2e9-545e86ea8e67",
   "metadata": {},
   "source": [
    "Noe we are ready to run the two-sample MR analysis. Here we can use a R package called [`MendelianRandomization` on CRAN](https://cran.r-project.org/web/packages/MendelianRandomization/index.html)."
   ]
  },
  {
   "cell_type": "code",
   "execution_count": 4,
   "id": "f6b2dcc2-208c-4602-a205-37d3d4802a3c",
   "metadata": {
    "tags": []
   },
   "outputs": [],
   "source": [
    "# Install MendelianRandomization package if not already installed\n",
    "if (!requireNamespace(\"MendelianRandomization\", quietly = TRUE)) {\n",
    "  install.packages(\"MendelianRandomization\")\n",
    "}\n",
    "\n",
    "# Load the package\n",
    "library(MendelianRandomization)"
   ]
  },
  {
   "cell_type": "markdown",
   "id": "8c637e0f-b749-4fbd-b638-c4c8f9df1bbf",
   "metadata": {},
   "source": [
    "In the vignette [here](https://cran.r-project.org/web/packages/MendelianRandomization/vignettes/Vignette_MR.pdf), please learn how to apply two basic MR methods -- MR-IVW amd MR-Egger. \n",
    "\n",
    "**Hint: the input for `mr_ivw` function consists of four components: coefficients and standard errors between variants and exposures, and between variants and outcome. Same for `mr_egger`. Check page 4 and 6 on the vignette PDF.**"
   ]
  },
  {
   "cell_type": "markdown",
   "id": "f91af33d-3f42-469d-8bf6-a01a57b551f7",
   "metadata": {
    "kernel": "SoS"
   },
   "source": [
    "***"
   ]
  },
  {
   "cell_type": "markdown",
   "id": "eed1fd0f-c6f0-4527-86ad-65536ef0751b",
   "metadata": {},
   "source": [
    "**Question 5: please run the MR-IVW and MR-Egger analysis.**"
   ]
  },
  {
   "cell_type": "markdown",
   "id": "86c4bb6e-256a-4831-be09-1b94b24ce812",
   "metadata": {
    "kernel": "SoS"
   },
   "source": [
    "**Answer:**"
   ]
  },
  {
   "cell_type": "markdown",
   "id": "b1820a85-0e21-425b-a95d-0d5d8c16ed05",
   "metadata": {
    "kernel": "SoS"
   },
   "source": [
    "***"
   ]
  },
  {
   "cell_type": "markdown",
   "id": "70706346-c25a-4143-a874-d5100963cd9d",
   "metadata": {},
   "source": [
    "# Analyze the results"
   ]
  },
  {
   "cell_type": "markdown",
   "id": "b0487e95-5f10-490e-827b-a578bd2f4367",
   "metadata": {
    "kernel": "SoS"
   },
   "source": [
    "***"
   ]
  },
  {
   "cell_type": "markdown",
   "id": "a4cb6d1c-b1d5-4690-836f-a56333468333",
   "metadata": {},
   "source": [
    "**Question 6: Using the MR-IVW and MR-Egger methods, report the estimated causal effect of the exposure on the outcome, along with standard errors, 95% confidence intervals, and p-values. Compare the estimates from MR-IVW and MR-Egger. What are the key differences between the two methods in your results?**"
   ]
  },
  {
   "cell_type": "markdown",
   "id": "35b1ca21-6ee3-4416-b0bc-ddf84b0a0636",
   "metadata": {
    "kernel": "SoS"
   },
   "source": [
    "**Answer:**"
   ]
  },
  {
   "cell_type": "markdown",
   "id": "db044a0d-1581-451a-91bb-948d5daea881",
   "metadata": {},
   "source": []
  },
  {
   "cell_type": "markdown",
   "id": "8f060693-21aa-49b6-a315-dc2468438b4e",
   "metadata": {
    "kernel": "SoS"
   },
   "source": [
    "***"
   ]
  },
  {
   "cell_type": "markdown",
   "id": "d623b33c-794d-40e8-8f74-ac7a2fc2670f",
   "metadata": {},
   "source": [
    "**Question 7 (optional): Run all the primary Mendelian Randomization methods using the `mr_allmethods` function from the package (use the code below). Visualize the results with the `mr_plot` function. Based on your findings, provide an analysis of the results and discuss the reasons for any observed patterns or outcomes.**\n",
    "\n",
    "```R\n",
    "res = mr_allmethods(mr_input(bx=merged_results$Beta_exposure, bxse=merged_results$SE_exposure, \n",
    "                               by=merged_results$Beta_outcome, byse=merged_results$SE_outcome), method = \"main\")\n",
    "```\n"
   ]
  },
  {
   "cell_type": "code",
   "execution_count": null,
   "id": "36ff3569-c671-4f8e-afe7-7d1ced4714a8",
   "metadata": {},
   "outputs": [],
   "source": []
  }
 ],
 "metadata": {
  "kernelspec": {
   "display_name": "R",
   "language": "R",
   "name": "ir"
  },
  "language_info": {
   "codemirror_mode": "r",
   "file_extension": ".r",
   "mimetype": "text/x-r-source",
   "name": "R",
   "pygments_lexer": "r",
   "version": "4.3.1"
  }
 },
 "nbformat": 4,
 "nbformat_minor": 5
}
